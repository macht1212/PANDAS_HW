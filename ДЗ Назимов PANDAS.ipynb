{
 "cells": [
  {
   "cell_type": "code",
   "execution_count": 21,
   "id": "8c33b32f",
   "metadata": {},
   "outputs": [],
   "source": [
    "import pandas as pd\n",
    "import html5lib\n",
    "import re"
   ]
  },
  {
   "cell_type": "markdown",
   "id": "880af6e3",
   "metadata": {},
   "source": [
    "# Задание 1"
   ]
  },
  {
   "cell_type": "code",
   "execution_count": 30,
   "id": "ae32bb57",
   "metadata": {},
   "outputs": [],
   "source": [
    "ratings = pd.read_csv('ratings.csv')"
   ]
  },
  {
   "cell_type": "code",
   "execution_count": 31,
   "id": "9e2f16d3",
   "metadata": {},
   "outputs": [],
   "source": [
    "movies = pd.read_csv('movies.csv')"
   ]
  },
  {
   "cell_type": "code",
   "execution_count": 32,
   "id": "a75c2436",
   "metadata": {},
   "outputs": [],
   "source": [
    "joined = ratings.merge(movies, on='movieId', how='left')"
   ]
  },
  {
   "cell_type": "code",
   "execution_count": 6,
   "id": "9c2c412b",
   "metadata": {},
   "outputs": [],
   "source": [
    "def rating(row):\n",
    "    if row['rating'] <= 2:\n",
    "        return 'Низкий рейтинг'\n",
    "    elif row['rating'] > 2 and row['rating'] <= 4:\n",
    "        return 'Средний рейтинг'\n",
    "    elif row['rating'] > 4 and row['rating'] <= 5:\n",
    "        return 'Высокий рейтинг'\n",
    "    \n",
    "    return 'Тут где-то ошибка'"
   ]
  },
  {
   "cell_type": "code",
   "execution_count": 18,
   "id": "de94e9d6",
   "metadata": {},
   "outputs": [
    {
     "data": {
      "text/html": [
       "<div>\n",
       "<style scoped>\n",
       "    .dataframe tbody tr th:only-of-type {\n",
       "        vertical-align: middle;\n",
       "    }\n",
       "\n",
       "    .dataframe tbody tr th {\n",
       "        vertical-align: top;\n",
       "    }\n",
       "\n",
       "    .dataframe thead th {\n",
       "        text-align: right;\n",
       "    }\n",
       "</style>\n",
       "<table border=\"1\" class=\"dataframe\">\n",
       "  <thead>\n",
       "    <tr style=\"text-align: right;\">\n",
       "      <th></th>\n",
       "      <th>userId</th>\n",
       "      <th>movieId</th>\n",
       "      <th>rating</th>\n",
       "      <th>timestamp</th>\n",
       "      <th>title</th>\n",
       "      <th>genres</th>\n",
       "      <th>rating discribing</th>\n",
       "    </tr>\n",
       "  </thead>\n",
       "  <tbody>\n",
       "    <tr>\n",
       "      <th>0</th>\n",
       "      <td>1</td>\n",
       "      <td>296</td>\n",
       "      <td>5.0</td>\n",
       "      <td>1147880044</td>\n",
       "      <td>Pulp Fiction (1994)</td>\n",
       "      <td>Comedy|Crime|Drama|Thriller</td>\n",
       "      <td>Высокий рейтинг</td>\n",
       "    </tr>\n",
       "    <tr>\n",
       "      <th>1</th>\n",
       "      <td>1</td>\n",
       "      <td>306</td>\n",
       "      <td>3.5</td>\n",
       "      <td>1147868817</td>\n",
       "      <td>Three Colors: Red (Trois couleurs: Rouge) (1994)</td>\n",
       "      <td>Drama</td>\n",
       "      <td>Средний рейтинг</td>\n",
       "    </tr>\n",
       "    <tr>\n",
       "      <th>2</th>\n",
       "      <td>1</td>\n",
       "      <td>307</td>\n",
       "      <td>5.0</td>\n",
       "      <td>1147868828</td>\n",
       "      <td>Three Colors: Blue (Trois couleurs: Bleu) (1993)</td>\n",
       "      <td>Drama</td>\n",
       "      <td>Высокий рейтинг</td>\n",
       "    </tr>\n",
       "    <tr>\n",
       "      <th>3</th>\n",
       "      <td>1</td>\n",
       "      <td>665</td>\n",
       "      <td>5.0</td>\n",
       "      <td>1147878820</td>\n",
       "      <td>Underground (1995)</td>\n",
       "      <td>Comedy|Drama|War</td>\n",
       "      <td>Высокий рейтинг</td>\n",
       "    </tr>\n",
       "    <tr>\n",
       "      <th>4</th>\n",
       "      <td>1</td>\n",
       "      <td>899</td>\n",
       "      <td>3.5</td>\n",
       "      <td>1147868510</td>\n",
       "      <td>Singin' in the Rain (1952)</td>\n",
       "      <td>Comedy|Musical|Romance</td>\n",
       "      <td>Средний рейтинг</td>\n",
       "    </tr>\n",
       "  </tbody>\n",
       "</table>\n",
       "</div>"
      ],
      "text/plain": [
       "   userId  movieId  rating   timestamp  \\\n",
       "0       1      296     5.0  1147880044   \n",
       "1       1      306     3.5  1147868817   \n",
       "2       1      307     5.0  1147868828   \n",
       "3       1      665     5.0  1147878820   \n",
       "4       1      899     3.5  1147868510   \n",
       "\n",
       "                                              title  \\\n",
       "0                               Pulp Fiction (1994)   \n",
       "1  Three Colors: Red (Trois couleurs: Rouge) (1994)   \n",
       "2  Three Colors: Blue (Trois couleurs: Bleu) (1993)   \n",
       "3                                Underground (1995)   \n",
       "4                        Singin' in the Rain (1952)   \n",
       "\n",
       "                        genres rating discribing  \n",
       "0  Comedy|Crime|Drama|Thriller   Высокий рейтинг  \n",
       "1                        Drama   Средний рейтинг  \n",
       "2                        Drama   Высокий рейтинг  \n",
       "3             Comedy|Drama|War   Высокий рейтинг  \n",
       "4       Comedy|Musical|Romance   Средний рейтинг  "
      ]
     },
     "execution_count": 18,
     "metadata": {},
     "output_type": "execute_result"
    }
   ],
   "source": [
    "joined['rating discribing'] = joined.apply(rating, axis=1)\n",
    "joined.head()"
   ]
  },
  {
   "cell_type": "code",
   "execution_count": 19,
   "id": "b88bb3a0",
   "metadata": {},
   "outputs": [
    {
     "data": {
      "text/plain": [
       "Средний рейтинг    15976841\n",
       "Высокий рейтинг     5813013\n",
       "Низкий рейтинг      3210241\n",
       "Name: rating discribing, dtype: int64"
      ]
     },
     "execution_count": 19,
     "metadata": {},
     "output_type": "execute_result"
    }
   ],
   "source": [
    "joined['rating discribing'].value_counts()"
   ]
  },
  {
   "cell_type": "markdown",
   "id": "840dee27",
   "metadata": {},
   "source": [
    "# Задание 2"
   ]
  },
  {
   "cell_type": "code",
   "execution_count": 110,
   "id": "6b185a0f",
   "metadata": {},
   "outputs": [],
   "source": [
    "def geo_data_info():\n",
    "    \n",
    "    if re.search(r'моск\\w+', line[0]) or re.search(r'тул\\w+', line[0]) or re.search(r'ярослав\\w+', line[0]):\n",
    "        line.append('Центр')\n",
    "    elif re.search(r'петерб\\w+', line[0]) or re.search(r'псков\\w+', line[0]) or re.search(r'мурман\\w+', line[0]):\n",
    "        line.append('Северо-Запад')\n",
    "    elif re.search(r'владивос\\w+', line[0]) or re.search(r'сахал\\w+', line[0]) or re.search(r'хабаро\\w+', line[0]):\n",
    "        line.append('Дальний Восток')\n",
    "    else:\n",
    "        line.append('undefined')"
   ]
  },
  {
   "cell_type": "code",
   "execution_count": 111,
   "id": "306883df",
   "metadata": {},
   "outputs": [],
   "source": [
    "with open('keywords.csv', 'r') as f:\n",
    "    DataFrame = []\n",
    "    \n",
    "    f.readline()\n",
    "    for line in f:\n",
    "        line = line.strip().split(',')\n",
    "        geo_data_info()\n",
    "        DataFrame.append(line)"
   ]
  },
  {
   "cell_type": "code",
   "execution_count": 112,
   "id": "6f5fade9",
   "metadata": {},
   "outputs": [],
   "source": [
    "geo_data = {\n",
    "    'Центр': ['москва', 'тула', 'ярославль'],\n",
    "    'Северо-Запад': ['петербург', 'псков', 'мурманск'],\n",
    "    'Дальний Восток': ['владивосток', 'сахалин', 'хабаровск']\n",
    "}"
   ]
  },
  {
   "cell_type": "code",
   "execution_count": 113,
   "id": "c350bdf2",
   "metadata": {},
   "outputs": [],
   "source": [
    "keywords = pd.DataFrame(DataFrame)"
   ]
  },
  {
   "cell_type": "code",
   "execution_count": 114,
   "id": "be57f156",
   "metadata": {},
   "outputs": [],
   "source": [
    "keywords = keywords.rename(columns={0: 'keyword', 1: 'shows', 2: 'region'})"
   ]
  },
  {
   "cell_type": "code",
   "execution_count": 115,
   "id": "ba355035",
   "metadata": {},
   "outputs": [
    {
     "data": {
      "text/html": [
       "<div>\n",
       "<style scoped>\n",
       "    .dataframe tbody tr th:only-of-type {\n",
       "        vertical-align: middle;\n",
       "    }\n",
       "\n",
       "    .dataframe tbody tr th {\n",
       "        vertical-align: top;\n",
       "    }\n",
       "\n",
       "    .dataframe thead th {\n",
       "        text-align: right;\n",
       "    }\n",
       "</style>\n",
       "<table border=\"1\" class=\"dataframe\">\n",
       "  <thead>\n",
       "    <tr style=\"text-align: right;\">\n",
       "      <th></th>\n",
       "      <th>keyword</th>\n",
       "      <th>shows</th>\n",
       "      <th>region</th>\n",
       "    </tr>\n",
       "  </thead>\n",
       "  <tbody>\n",
       "    <tr>\n",
       "      <th>99995</th>\n",
       "      <td>эльдорадо старый оскол</td>\n",
       "      <td>3705</td>\n",
       "      <td>undefined</td>\n",
       "    </tr>\n",
       "    <tr>\n",
       "      <th>99996</th>\n",
       "      <td>frigate для firefox</td>\n",
       "      <td>3630</td>\n",
       "      <td>undefined</td>\n",
       "    </tr>\n",
       "    <tr>\n",
       "      <th>99997</th>\n",
       "      <td>укрсиб</td>\n",
       "      <td>3630</td>\n",
       "      <td>undefined</td>\n",
       "    </tr>\n",
       "    <tr>\n",
       "      <th>99998</th>\n",
       "      <td>погода в ялте на неделю</td>\n",
       "      <td>3688</td>\n",
       "      <td>undefined</td>\n",
       "    </tr>\n",
       "    <tr>\n",
       "      <th>99999</th>\n",
       "      <td>ггму</td>\n",
       "      <td>3630</td>\n",
       "      <td>undefined</td>\n",
       "    </tr>\n",
       "  </tbody>\n",
       "</table>\n",
       "</div>"
      ],
      "text/plain": [
       "                       keyword shows     region\n",
       "99995   эльдорадо старый оскол  3705  undefined\n",
       "99996      frigate для firefox  3630  undefined\n",
       "99997                   укрсиб  3630  undefined\n",
       "99998  погода в ялте на неделю  3688  undefined\n",
       "99999                     ггму  3630  undefined"
      ]
     },
     "execution_count": 115,
     "metadata": {},
     "output_type": "execute_result"
    }
   ],
   "source": [
    "keywords.tail()"
   ]
  },
  {
   "cell_type": "code",
   "execution_count": 116,
   "id": "3f4e0e56",
   "metadata": {},
   "outputs": [],
   "source": [
    "filtered_regions = keywords[ (keywords['region']=='Центр') | (keywords['region']=='Северо-Запад') | (keywords['region']=='Дальний Восток') ]"
   ]
  },
  {
   "cell_type": "code",
   "execution_count": 117,
   "id": "f02982b2",
   "metadata": {},
   "outputs": [
    {
     "data": {
      "text/html": [
       "<div>\n",
       "<style scoped>\n",
       "    .dataframe tbody tr th:only-of-type {\n",
       "        vertical-align: middle;\n",
       "    }\n",
       "\n",
       "    .dataframe tbody tr th {\n",
       "        vertical-align: top;\n",
       "    }\n",
       "\n",
       "    .dataframe thead th {\n",
       "        text-align: right;\n",
       "    }\n",
       "</style>\n",
       "<table border=\"1\" class=\"dataframe\">\n",
       "  <thead>\n",
       "    <tr style=\"text-align: right;\">\n",
       "      <th></th>\n",
       "      <th>keyword</th>\n",
       "      <th>shows</th>\n",
       "      <th>region</th>\n",
       "    </tr>\n",
       "  </thead>\n",
       "  <tbody>\n",
       "    <tr>\n",
       "      <th>127</th>\n",
       "      <td>авито москва</td>\n",
       "      <td>979292</td>\n",
       "      <td>Центр</td>\n",
       "    </tr>\n",
       "    <tr>\n",
       "      <th>143</th>\n",
       "      <td>эхо москвы</td>\n",
       "      <td>889657</td>\n",
       "      <td>Центр</td>\n",
       "    </tr>\n",
       "    <tr>\n",
       "      <th>155</th>\n",
       "      <td>школьный портал московской области</td>\n",
       "      <td>836987</td>\n",
       "      <td>Центр</td>\n",
       "    </tr>\n",
       "    <tr>\n",
       "      <th>197</th>\n",
       "      <td>погода в москве</td>\n",
       "      <td>745745</td>\n",
       "      <td>Центр</td>\n",
       "    </tr>\n",
       "    <tr>\n",
       "      <th>370</th>\n",
       "      <td>авито ру санкт петербург</td>\n",
       "      <td>425134</td>\n",
       "      <td>Северо-Запад</td>\n",
       "    </tr>\n",
       "    <tr>\n",
       "      <th>414</th>\n",
       "      <td>погода в москве на 14 дней</td>\n",
       "      <td>400914</td>\n",
       "      <td>Центр</td>\n",
       "    </tr>\n",
       "    <tr>\n",
       "      <th>512</th>\n",
       "      <td>карта метро москвы</td>\n",
       "      <td>331857</td>\n",
       "      <td>Центр</td>\n",
       "    </tr>\n",
       "    <tr>\n",
       "      <th>564</th>\n",
       "      <td>погода в санкт петербурге</td>\n",
       "      <td>292489</td>\n",
       "      <td>Северо-Запад</td>\n",
       "    </tr>\n",
       "    <tr>\n",
       "      <th>584</th>\n",
       "      <td>схема метро москвы</td>\n",
       "      <td>374592</td>\n",
       "      <td>Центр</td>\n",
       "    </tr>\n",
       "    <tr>\n",
       "      <th>647</th>\n",
       "      <td>портал госуслуг москвы</td>\n",
       "      <td>263844</td>\n",
       "      <td>Центр</td>\n",
       "    </tr>\n",
       "    <tr>\n",
       "      <th>652</th>\n",
       "      <td>работа в москве</td>\n",
       "      <td>265000</td>\n",
       "      <td>Центр</td>\n",
       "    </tr>\n",
       "    <tr>\n",
       "      <th>792</th>\n",
       "      <td>метро москвы</td>\n",
       "      <td>221363</td>\n",
       "      <td>Центр</td>\n",
       "    </tr>\n",
       "    <tr>\n",
       "      <th>798</th>\n",
       "      <td>московское время</td>\n",
       "      <td>238708</td>\n",
       "      <td>Центр</td>\n",
       "    </tr>\n",
       "    <tr>\n",
       "      <th>849</th>\n",
       "      <td>авито ярославль</td>\n",
       "      <td>209581</td>\n",
       "      <td>Центр</td>\n",
       "    </tr>\n",
       "    <tr>\n",
       "      <th>987</th>\n",
       "      <td>карта москвы</td>\n",
       "      <td>186108</td>\n",
       "      <td>Центр</td>\n",
       "    </tr>\n",
       "  </tbody>\n",
       "</table>\n",
       "</div>"
      ],
      "text/plain": [
       "                                keyword   shows        region\n",
       "127                        авито москва  979292         Центр\n",
       "143                          эхо москвы  889657         Центр\n",
       "155  школьный портал московской области  836987         Центр\n",
       "197                     погода в москве  745745         Центр\n",
       "370            авито ру санкт петербург  425134  Северо-Запад\n",
       "414          погода в москве на 14 дней  400914         Центр\n",
       "512                  карта метро москвы  331857         Центр\n",
       "564           погода в санкт петербурге  292489  Северо-Запад\n",
       "584                  схема метро москвы  374592         Центр\n",
       "647              портал госуслуг москвы  263844         Центр\n",
       "652                     работа в москве  265000         Центр\n",
       "792                        метро москвы  221363         Центр\n",
       "798                    московское время  238708         Центр\n",
       "849                     авито ярославль  209581         Центр\n",
       "987                        карта москвы  186108         Центр"
      ]
     },
     "execution_count": 117,
     "metadata": {},
     "output_type": "execute_result"
    }
   ],
   "source": [
    "filtered_regions.head(15)"
   ]
  },
  {
   "cell_type": "code",
   "execution_count": null,
   "id": "18b62ed3",
   "metadata": {},
   "outputs": [],
   "source": []
  }
 ],
 "metadata": {
  "kernelspec": {
   "display_name": "Python 3 (ipykernel)",
   "language": "python",
   "name": "python3"
  },
  "language_info": {
   "codemirror_mode": {
    "name": "ipython",
    "version": 3
   },
   "file_extension": ".py",
   "mimetype": "text/x-python",
   "name": "python",
   "nbconvert_exporter": "python",
   "pygments_lexer": "ipython3",
   "version": "3.9.12"
  }
 },
 "nbformat": 4,
 "nbformat_minor": 5
}
