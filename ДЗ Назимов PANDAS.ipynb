{
 "cells": [
  {
   "cell_type": "code",
   "execution_count": 1,
   "id": "8c33b32f",
   "metadata": {},
   "outputs": [],
   "source": [
    "import pandas as pd\n",
    "import html5lib"
   ]
  },
  {
   "cell_type": "markdown",
   "id": "880af6e3",
   "metadata": {},
   "source": [
    "# Задание 1"
   ]
  },
  {
   "cell_type": "code",
   "execution_count": 3,
   "id": "ae32bb57",
   "metadata": {},
   "outputs": [],
   "source": [
    "ratings = pd.read_csv('ratings.csv')"
   ]
  },
  {
   "cell_type": "code",
   "execution_count": 4,
   "id": "9e2f16d3",
   "metadata": {},
   "outputs": [],
   "source": [
    "movies = pd.read_csv('movies.csv')"
   ]
  },
  {
   "cell_type": "code",
   "execution_count": 6,
   "id": "a75c2436",
   "metadata": {},
   "outputs": [],
   "source": [
    "joined = ratings.merge(movies, on='movieId', how='left')"
   ]
  },
  {
   "cell_type": "code",
   "execution_count": 7,
   "id": "9c2c412b",
   "metadata": {},
   "outputs": [],
   "source": [
    "def rating(row):\n",
    "    if row['rating'] <= 2:\n",
    "        return 'Низкий рейтинг'\n",
    "    elif row['rating'] > 2 and row['rating'] <= 4:\n",
    "        return 'Средний рейтинг'\n",
    "    elif row['rating'] > 4 and row['rating'] <= 5:\n",
    "        return 'Высокий рейтинг'\n",
    "    \n",
    "    return 'Тут где-то ошибка'"
   ]
  },
  {
   "cell_type": "code",
   "execution_count": null,
   "id": "de94e9d6",
   "metadata": {},
   "outputs": [],
   "source": [
    "joined['rating discribing'] = joined.apply(rating, axis=1)\n",
    "joined.head()"
   ]
  },
  {
   "cell_type": "code",
   "execution_count": null,
   "id": "b88bb3a0",
   "metadata": {},
   "outputs": [],
   "source": [
    "joined['rating discribing'].value_counts()"
   ]
  },
  {
   "cell_type": "markdown",
   "id": "840dee27",
   "metadata": {},
   "source": [
    "# Задание 2"
   ]
  },
  {
   "cell_type": "code",
   "execution_count": null,
   "id": "67f32560",
   "metadata": {},
   "outputs": [],
   "source": [
    "keywords = pd.read_csv('ml-25m/keywords.csv')"
   ]
  },
  {
   "cell_type": "code",
   "execution_count": null,
   "id": "04819a9d",
   "metadata": {},
   "outputs": [],
   "source": []
  }
 ],
 "metadata": {
  "kernelspec": {
   "display_name": "Python 3 (ipykernel)",
   "language": "python",
   "name": "python3"
  },
  "language_info": {
   "codemirror_mode": {
    "name": "ipython",
    "version": 3
   },
   "file_extension": ".py",
   "mimetype": "text/x-python",
   "name": "python",
   "nbconvert_exporter": "python",
   "pygments_lexer": "ipython3",
   "version": "3.9.12"
  }
 },
 "nbformat": 4,
 "nbformat_minor": 5
}
